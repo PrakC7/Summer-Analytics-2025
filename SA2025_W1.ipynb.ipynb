{
 "cells": [
  {
   "cell_type": "markdown",
   "id": "ecf406cb",
   "metadata": {},
   "source": [
    "# Summer Analytics 2025 - Assignment 1\n",
    "### Data Analysis on Cars.csv"
   ]
  },
  {
   "cell_type": "code",
   "execution_count": null,
   "id": "d1894b22",
   "metadata": {},
   "outputs": [],
   "source": [
    "import pandas as pd\n",
    "import numpy as np\n",
    "import matplotlib.pyplot as plt\n",
    "import seaborn as sns\n",
    "\n",
    "sns.set(style=\"whitegrid\")\n",
    "\n",
    "df = pd.read_csv(\"Cars.csv\")\n",
    "df.head()"
   ]
  },
  {
   "cell_type": "markdown",
   "id": "923a9a5b",
   "metadata": {},
   "source": [
    "### Basic Info & Cleaning"
   ]
  },
  {
   "cell_type": "code",
   "execution_count": null,
   "id": "2445f90d",
   "metadata": {},
   "outputs": [],
   "source": [
    "df.info()\n",
    "df.isnull().sum()\n",
    "df.dropna(inplace=True)"
   ]
  },
  {
   "cell_type": "markdown",
   "id": "037a3997",
   "metadata": {},
   "source": [
    "### Descriptive Stats & Analysis"
   ]
  },
  {
   "cell_type": "code",
   "execution_count": null,
   "id": "ba4856bc",
   "metadata": {},
   "outputs": [],
   "source": [
    "df.describe()\n",
    "df['origin'].value_counts()\n",
    "\n",
    "plt.figure(figsize=(10,6))\n",
    "sns.heatmap(df.corr(numeric_only=True), annot=True, cmap='coolwarm')\n",
    "plt.title(\"Correlation Heatmap\")\n",
    "plt.show()"
   ]
  },
  {
   "cell_type": "markdown",
   "id": "fd259acb",
   "metadata": {},
   "source": [
    "### Visualizations"
   ]
  },
  {
   "cell_type": "code",
   "execution_count": null,
   "id": "ec0fbbca",
   "metadata": {},
   "outputs": [],
   "source": [
    "sns.scatterplot(x='weight', y='mpg', data=df)\n",
    "plt.title('MPG vs Weight')\n",
    "plt.show()\n",
    "\n",
    "sns.boxplot(x='origin', y='mpg', data=df)\n",
    "plt.title('MPG distribution by Origin')\n",
    "plt.show()\n",
    "\n",
    "sns.countplot(x='cylinders', data=df)\n",
    "plt.title('Count of Cylinders')\n",
    "plt.show()"
   ]
  },
  {
   "cell_type": "markdown",
   "id": "614ef703",
   "metadata": {},
   "source": [
    "### Key Analysis"
   ]
  },
  {
   "cell_type": "code",
   "execution_count": null,
   "id": "0e2c8ec5",
   "metadata": {},
   "outputs": [],
   "source": [
    "avg_mpg_by_year = df.groupby('model_year')['mpg'].mean()\n",
    "avg_mpg_by_year.plot(kind='line', marker='o', title='Avg MPG by Model Year')\n",
    "plt.xlabel('Model Year')\n",
    "plt.ylabel('MPG')\n",
    "plt.grid()\n",
    "plt.show()\n",
    "\n",
    "df.sort_values(by='mpg', ascending=False).head()"
   ]
  }
 ],
 "metadata": {},
 "nbformat": 4,
 "nbformat_minor": 5
}
